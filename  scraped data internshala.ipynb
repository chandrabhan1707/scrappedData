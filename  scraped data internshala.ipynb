{
 "cells": [
  {
   "cell_type": "code",
   "execution_count": 57,
   "id": "0b22de08",
   "metadata": {},
   "outputs": [],
   "source": [
    "from selenium import webdriver\n",
    "import pandas as pd\n",
    "import numpy as np"
   ]
  },
  {
   "cell_type": "code",
   "execution_count": 58,
   "id": "d969a5b4",
   "metadata": {},
   "outputs": [
    {
     "name": "stderr",
     "output_type": "stream",
     "text": [
      "C:\\Users\\hp\\AppData\\Local\\Temp/ipykernel_3876/430711958.py:1: DeprecationWarning: executable_path has been deprecated, please pass in a Service object\n",
      "  browser=webdriver.Chrome(executable_path=\"C:\\\\Users\\\\hp\\\\chromedriver.exe\")\n"
     ]
    }
   ],
   "source": [
    "browser=webdriver.Chrome(executable_path=\"C:\\\\Users\\\\hp\\\\chromedriver.exe\")"
   ]
  },
  {
   "cell_type": "code",
   "execution_count": 59,
   "id": "391e7704",
   "metadata": {},
   "outputs": [],
   "source": [
    "browser.get('https://www.giiresearch.com/material_report.shtml')"
   ]
  },
  {
   "cell_type": "code",
   "execution_count": 60,
   "id": "067d4a31",
   "metadata": {
    "scrolled": true
   },
   "outputs": [
    {
     "name": "stderr",
     "output_type": "stream",
     "text": [
      "C:\\Users\\hp\\AppData\\Local\\Temp/ipykernel_3876/1036972280.py:1: DeprecationWarning: find_elements_by_class_name is deprecated. Please use find_elements(by=By.CLASS_NAME, value=name) instead\n",
      "  data=browser.find_elements_by_class_name('plist_item')\n"
     ]
    }
   ],
   "source": [
    "data=browser.find_elements_by_class_name('plist_item')"
   ]
  },
  {
   "cell_type": "code",
   "execution_count": 61,
   "id": "ba9161be",
   "metadata": {},
   "outputs": [
    {
     "name": "stderr",
     "output_type": "stream",
     "text": [
      "C:\\Users\\hp\\AppData\\Local\\Temp/ipykernel_3876/47345275.py:10: DeprecationWarning: find_elements_by_class_name is deprecated. Please use find_elements(by=By.CLASS_NAME, value=name) instead\n",
      "  data=browser.find_elements_by_class_name('plist_item')\n",
      "C:\\Users\\hp\\anaconda3\\lib\\site-packages\\selenium\\webdriver\\remote\\webelement.py:464: UserWarning: find_elements_by_class_name is deprecated. Please use find_elements(by=By.CLASS_NAME, value=name) instead\n",
      "  warnings.warn(\"find_elements_by_class_name is deprecated. Please use find_elements(by=By.CLASS_NAME, value=name) instead\")\n",
      "C:\\Users\\hp\\AppData\\Local\\Temp/ipykernel_3876/47345275.py:24: DeprecationWarning: find_element_by_class_name is deprecated. Please use find_element(by=By.CLASS_NAME, value=name) instead\n",
      "  browser.find_element_by_class_name('btn_next').click()\n"
     ]
    }
   ],
   "source": [
    "Title=[]\n",
    "Published_by=[]\n",
    "Product_Code=[]\n",
    "Published=[]\n",
    "Content_info=[]\n",
    "Price=[]\n",
    "\n",
    "condition=True\n",
    "while condition:\n",
    "    data=browser.find_elements_by_class_name('plist_item')\n",
    "    for items in data:\n",
    "        Title.append(items.find_elements_by_class_name('list_title')[0].text)\n",
    "        Published_by.append(items.find_elements_by_class_name('plist_info_dd2')[0].text)\n",
    "        Product_Code.append(items.find_elements_by_class_name('plist_info_dd2')[1].text)\n",
    "        Published.append(items.find_elements_by_class_name('plist_info_dd2')[2].text)\n",
    "        Content_info.append(items.find_elements_by_class_name('plist_info_dd2')[3].text)\n",
    "        try:\n",
    "            Price.append(items.find_elements_by_class_name('price_usd')[0].text)\n",
    "            \n",
    "        except:\n",
    "            Price.append(float(np.nan))\n",
    "                         \n",
    "    try:\n",
    "        browser.find_element_by_class_name('btn_next').click()\n",
    "        \n",
    "    except:\n",
    "        condition=False\n",
    "            \n",
    "            \n",
    "column={'Title':Title,\n",
    "        'Published_by':Published_by,\n",
    "        'Product_Code':Product_Code,\n",
    "        'Published':Published,\n",
    "        'Content_info':Content_info,\n",
    "        'Price':Price}\n",
    "\n",
    "df1=pd.DataFrame(data=column)"
   ]
  },
  {
   "cell_type": "code",
   "execution_count": 52,
   "id": "43b98867",
   "metadata": {},
   "outputs": [],
   "source": [
    "#browser.find_element_by_class_name('btn_next').click()"
   ]
  },
  {
   "cell_type": "code",
   "execution_count": 64,
   "id": "32573066",
   "metadata": {},
   "outputs": [
    {
     "data": {
      "text/html": [
       "<div>\n",
       "<style scoped>\n",
       "    .dataframe tbody tr th:only-of-type {\n",
       "        vertical-align: middle;\n",
       "    }\n",
       "\n",
       "    .dataframe tbody tr th {\n",
       "        vertical-align: top;\n",
       "    }\n",
       "\n",
       "    .dataframe thead th {\n",
       "        text-align: right;\n",
       "    }\n",
       "</style>\n",
       "<table border=\"1\" class=\"dataframe\">\n",
       "  <thead>\n",
       "    <tr style=\"text-align: right;\">\n",
       "      <th></th>\n",
       "      <th>Title</th>\n",
       "      <th>Published_by</th>\n",
       "      <th>Product_Code</th>\n",
       "      <th>Published</th>\n",
       "      <th>Content_info</th>\n",
       "      <th>Price</th>\n",
       "    </tr>\n",
       "  </thead>\n",
       "  <tbody>\n",
       "    <tr>\n",
       "      <th>0</th>\n",
       "      <td>Re-Refined Base Oil Market - Global Outlook &amp; ...</td>\n",
       "      <td>Arizton Advisory &amp; Intelligence</td>\n",
       "      <td>1069856</td>\n",
       "      <td>April 14, 2022</td>\n",
       "      <td>294 Pages</td>\n",
       "      <td>USD 3750</td>\n",
       "    </tr>\n",
       "    <tr>\n",
       "      <th>1</th>\n",
       "      <td>Poly Alpha Olefin (PAO) Market - Global Outloo...</td>\n",
       "      <td>Arizton Advisory &amp; Intelligence</td>\n",
       "      <td>1069854</td>\n",
       "      <td>April 14, 2022</td>\n",
       "      <td>222 Pages</td>\n",
       "      <td>USD 3750</td>\n",
       "    </tr>\n",
       "    <tr>\n",
       "      <th>2</th>\n",
       "      <td>Medical Device Packaging Market - Global Outlo...</td>\n",
       "      <td>Arizton Advisory &amp; Intelligence</td>\n",
       "      <td>1069849</td>\n",
       "      <td>April 14, 2022</td>\n",
       "      <td>299 Pages</td>\n",
       "      <td>USD 3750</td>\n",
       "    </tr>\n",
       "    <tr>\n",
       "      <th>3</th>\n",
       "      <td>Group II &amp; III Base Oil Market - Global Outloo...</td>\n",
       "      <td>Arizton Advisory &amp; Intelligence</td>\n",
       "      <td>1069847</td>\n",
       "      <td>April 14, 2022</td>\n",
       "      <td>259 Pages</td>\n",
       "      <td>USD 3750</td>\n",
       "    </tr>\n",
       "    <tr>\n",
       "      <th>4</th>\n",
       "      <td>Garden Pesticides Market - Global Outlook &amp; Fo...</td>\n",
       "      <td>Arizton Advisory &amp; Intelligence</td>\n",
       "      <td>1069845</td>\n",
       "      <td>April 14, 2022</td>\n",
       "      <td>287 Pages</td>\n",
       "      <td>USD 3500</td>\n",
       "    </tr>\n",
       "    <tr>\n",
       "      <th>...</th>\n",
       "      <td>...</td>\n",
       "      <td>...</td>\n",
       "      <td>...</td>\n",
       "      <td>...</td>\n",
       "      <td>...</td>\n",
       "      <td>...</td>\n",
       "    </tr>\n",
       "    <tr>\n",
       "      <th>25508</th>\n",
       "      <td>Titanium Dioxide China Monthly Report</td>\n",
       "      <td>CCM Data &amp; Business Intelligence</td>\n",
       "      <td>204029</td>\n",
       "      <td>annual subscription 12 issues</td>\n",
       "      <td>25 Pages</td>\n",
       "      <td>USD 3564</td>\n",
       "    </tr>\n",
       "    <tr>\n",
       "      <th>25509</th>\n",
       "      <td>China Fluoride Materials Monthly Report</td>\n",
       "      <td>CCM Data &amp; Business Intelligence</td>\n",
       "      <td>246752</td>\n",
       "      <td>annual subscription 12 issues</td>\n",
       "      <td>30 Pages</td>\n",
       "      <td>USD 3564</td>\n",
       "    </tr>\n",
       "    <tr>\n",
       "      <th>25510</th>\n",
       "      <td>Phosphorus Industry China Monthly Report</td>\n",
       "      <td>CCM Data &amp; Business Intelligence</td>\n",
       "      <td>221336</td>\n",
       "      <td>annual subscription 12 issues</td>\n",
       "      <td>28 Pages</td>\n",
       "      <td>USD 2916</td>\n",
       "    </tr>\n",
       "    <tr>\n",
       "      <th>25511</th>\n",
       "      <td>Phosphates Market - Global Industry Analysis, ...</td>\n",
       "      <td>Transparency Market Research</td>\n",
       "      <td>934082</td>\n",
       "      <td></td>\n",
       "      <td>590 Pages</td>\n",
       "      <td>USD 5795</td>\n",
       "    </tr>\n",
       "    <tr>\n",
       "      <th>25512</th>\n",
       "      <td>Global Animal Insecticide Industry Research Re...</td>\n",
       "      <td>QYResearch</td>\n",
       "      <td>929372</td>\n",
       "      <td></td>\n",
       "      <td>110 Pages</td>\n",
       "      <td>USD 4900</td>\n",
       "    </tr>\n",
       "  </tbody>\n",
       "</table>\n",
       "<p>25513 rows × 6 columns</p>\n",
       "</div>"
      ],
      "text/plain": [
       "                                                   Title  \\\n",
       "0      Re-Refined Base Oil Market - Global Outlook & ...   \n",
       "1      Poly Alpha Olefin (PAO) Market - Global Outloo...   \n",
       "2      Medical Device Packaging Market - Global Outlo...   \n",
       "3      Group II & III Base Oil Market - Global Outloo...   \n",
       "4      Garden Pesticides Market - Global Outlook & Fo...   \n",
       "...                                                  ...   \n",
       "25508              Titanium Dioxide China Monthly Report   \n",
       "25509            China Fluoride Materials Monthly Report   \n",
       "25510           Phosphorus Industry China Monthly Report   \n",
       "25511  Phosphates Market - Global Industry Analysis, ...   \n",
       "25512  Global Animal Insecticide Industry Research Re...   \n",
       "\n",
       "                           Published_by Product_Code  \\\n",
       "0       Arizton Advisory & Intelligence      1069856   \n",
       "1       Arizton Advisory & Intelligence      1069854   \n",
       "2       Arizton Advisory & Intelligence      1069849   \n",
       "3       Arizton Advisory & Intelligence      1069847   \n",
       "4       Arizton Advisory & Intelligence      1069845   \n",
       "...                                 ...          ...   \n",
       "25508  CCM Data & Business Intelligence       204029   \n",
       "25509  CCM Data & Business Intelligence       246752   \n",
       "25510  CCM Data & Business Intelligence       221336   \n",
       "25511      Transparency Market Research       934082   \n",
       "25512                        QYResearch       929372   \n",
       "\n",
       "                           Published Content_info     Price  \n",
       "0                     April 14, 2022    294 Pages  USD 3750  \n",
       "1                     April 14, 2022    222 Pages  USD 3750  \n",
       "2                     April 14, 2022    299 Pages  USD 3750  \n",
       "3                     April 14, 2022    259 Pages  USD 3750  \n",
       "4                     April 14, 2022    287 Pages  USD 3500  \n",
       "...                              ...          ...       ...  \n",
       "25508  annual subscription 12 issues     25 Pages  USD 3564  \n",
       "25509  annual subscription 12 issues     30 Pages  USD 3564  \n",
       "25510  annual subscription 12 issues     28 Pages  USD 2916  \n",
       "25511                                   590 Pages  USD 5795  \n",
       "25512                                   110 Pages  USD 4900  \n",
       "\n",
       "[25513 rows x 6 columns]"
      ]
     },
     "execution_count": 64,
     "metadata": {},
     "output_type": "execute_result"
    }
   ],
   "source": [
    " df1"
   ]
  },
  {
   "cell_type": "code",
   "execution_count": null,
   "id": "58eea1aa",
   "metadata": {},
   "outputs": [],
   "source": [
    "#items.find_elements_by_class_name('price_usd')[0].text"
   ]
  },
  {
   "cell_type": "code",
   "execution_count": 65,
   "id": "dcc4780c",
   "metadata": {},
   "outputs": [],
   "source": [
    "df1.to_csv('Data.csv',index=False)"
   ]
  },
  {
   "cell_type": "code",
   "execution_count": null,
   "id": "052425c7",
   "metadata": {},
   "outputs": [],
   "source": []
  },
  {
   "cell_type": "code",
   "execution_count": null,
   "id": "22bdafed",
   "metadata": {},
   "outputs": [],
   "source": []
  }
 ],
 "metadata": {
  "kernelspec": {
   "display_name": "Python 3 (ipykernel)",
   "language": "python",
   "name": "python3"
  },
  "language_info": {
   "codemirror_mode": {
    "name": "ipython",
    "version": 3
   },
   "file_extension": ".py",
   "mimetype": "text/x-python",
   "name": "python",
   "nbconvert_exporter": "python",
   "pygments_lexer": "ipython3",
   "version": "3.8.12"
  }
 },
 "nbformat": 4,
 "nbformat_minor": 5
}
